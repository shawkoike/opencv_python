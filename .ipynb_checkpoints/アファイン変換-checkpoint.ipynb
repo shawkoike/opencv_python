{
 "cells": [
  {
   "cell_type": "code",
   "execution_count": 1,
   "metadata": {},
   "outputs": [
    {
     "ename": "SyntaxError",
     "evalue": "invalid syntax (<ipython-input-1-a1ff6696f28d>, line 3)",
     "output_type": "error",
     "traceback": [
      "\u001b[0;36m  File \u001b[0;32m\"<ipython-input-1-a1ff6696f28d>\"\u001b[0;36m, line \u001b[0;32m3\u001b[0m\n\u001b[0;31m    アファイン変換：回転・平行移動などの線形変換のこと\u001b[0m\n\u001b[0m    ^\u001b[0m\n\u001b[0;31mSyntaxError\u001b[0m\u001b[0;31m:\u001b[0m invalid syntax\n"
     ]
    }
   ],
   "source": [
    "### アファイン変換\n",
    "\n",
    "アファイン変換：回転・平行移動などの線形変換のこと"
   ]
  },
  {
   "cell_type": "code",
   "execution_count": null,
   "metadata": {},
   "outputs": [],
   "source": [
    "import cv2\n",
    "import numpy as np\n",
    "\n",
    "img = cv2.imread(\"src/grapes.jpg\")\n",
    "h, w = img.shape[:2]\n",
    "# 平行移動するピクセル数\n",
    "dx, dy = 30, 30\n",
    "\n",
    "# 変換行列の定義\n",
    "afn_mat = np.float32([[1, 0, dx], [0, 1, dy]])\n",
    "# 画像の格納\n",
    "img_afn = cv2.warpAffine(img, afn_mat, (w, h))\n",
    "#cv2.imshow(\"trans\", img_afn)\n",
    "\n",
    "# 回転する中心の座標, 角度, スケール\n",
    "rot_mat = cv2.getRotationMatrix2D((w/2, h/2), 40, 1)\n",
    "img_afn2 = cv2.warpAffine(img, rot_mat, (w,h))\n",
    "#cv2.imshow(\"rotation\", img_afn2)\n",
    "\n",
    "cv2.waitKey(0)\n",
    "cv2.destroyAllWindows()"
   ]
  },
  {
   "cell_type": "code",
   "execution_count": null,
   "metadata": {},
   "outputs": [],
   "source": []
  }
 ],
 "metadata": {
  "kernelspec": {
   "display_name": "Python 3",
   "language": "python",
   "name": "python3"
  },
  "language_info": {
   "codemirror_mode": {
    "name": "ipython",
    "version": 2
   },
   "file_extension": ".py",
   "mimetype": "text/x-python",
   "name": "python",
   "nbconvert_exporter": "python",
   "pygments_lexer": "ipython2",
   "version": "2.7.15"
  }
 },
 "nbformat": 4,
 "nbformat_minor": 2
}
