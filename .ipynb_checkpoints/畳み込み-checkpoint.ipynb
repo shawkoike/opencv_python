{
 "cells": [
  {
   "cell_type": "markdown",
   "metadata": {},
   "source": [
    "### 畳み込み\n",
    "\n",
    "畳み込み：周囲の情報を使った自分の画素値の更新    \n",
    "ノイズの除去に有効的\n",
    "\n",
    "\n",
    "畳み込みの流れ\n",
    "- フィルターを用意する\n",
    "- 着目画素の周囲で (画素値) X (フィルター) をおこない足していく => 畳み込み（周りの情報を取り込んで、値が更新された = 平滑化フィルタ）\n",
    "- 全ての画素に対して畳み込みを行う\n",
    "\n",
    "\n",
    "画像の微分や平滑化など様々なフィルターがある\n",
    "- 平滑化フィルター\n",
    "- Sobel フィルター：後の画像から前の画像を引くことで画像を微分している（縦方向のエッジがわかる）\n"
   ]
  },
  {
   "cell_type": "code",
   "execution_count": null,
   "metadata": {},
   "outputs": [],
   "source": []
  }
 ],
 "metadata": {
  "kernelspec": {
   "display_name": "Python 3",
   "language": "python",
   "name": "python3"
  },
  "language_info": {
   "codemirror_mode": {
    "name": "ipython",
    "version": 2
   },
   "file_extension": ".py",
   "mimetype": "text/x-python",
   "name": "python",
   "nbconvert_exporter": "python",
   "pygments_lexer": "ipython2",
   "version": "2.7.15"
  }
 },
 "nbformat": 4,
 "nbformat_minor": 2
}
