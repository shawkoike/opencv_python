{
 "cells": [
  {
   "cell_type": "markdown",
   "metadata": {},
   "source": [
    "### γ変換\n",
    "\n",
    "γ変換が画像の明るさの変換方法\n",
    "\n",
    "$$\n",
    "y = 255 * (\\frac{x}{255})^{\\frac{1}{γ}}\n",
    "$$\n",
    "\n",
    "γが１より小さい：画像が暗くなる    \n",
    "γが１より大きい：画像が明るくなる"
   ]
  },
  {
   "cell_type": "code",
   "execution_count": null,
   "metadata": {},
   "outputs": [],
   "source": [
    "import cv2\n",
    "import numpy as np\n",
    "\n",
    "# １以上であれば明るくなるし１以下であれば暗くなる\n",
    "gamma = 0.4\n",
    "img = cv2.imread(\"src/Berry.jpg\")\n",
    "gamma_cvt = np.zeros((256, 1), dtype=np.uint8)\n",
    "for i in range(256):\n",
    "    gamma_cvt[i][0] = 255 * (float(i)/255) ** (1.0 / gamma)\n",
    "\n",
    "img_gamma = cv2.LUT(img, gamma_cvt)\n",
    "\n",
    "#cv2.imshow(\"img\", img)\n",
    "#cv2.imshow(\"gamma\", img_gamma)\n",
    "#cv2.waitKey(0)\n",
    "#cv2.destroyAllWindows()"
   ]
  },
  {
   "cell_type": "code",
   "execution_count": null,
   "metadata": {},
   "outputs": [],
   "source": []
  }
 ],
 "metadata": {
  "kernelspec": {
   "display_name": "Python 3",
   "language": "python",
   "name": "python3"
  },
  "language_info": {
   "codemirror_mode": {
    "name": "ipython",
    "version": 2
   },
   "file_extension": ".py",
   "mimetype": "text/x-python",
   "name": "python",
   "nbconvert_exporter": "python",
   "pygments_lexer": "ipython2",
   "version": "2.7.15"
  }
 },
 "nbformat": 4,
 "nbformat_minor": 2
}
