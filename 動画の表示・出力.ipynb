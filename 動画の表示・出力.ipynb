{
 "cells": [
  {
   "cell_type": "code",
   "execution_count": 4,
   "metadata": {},
   "outputs": [],
   "source": [
    "import cv2\n",
    "import sys\n",
    "\n",
    "cap = cv2.VideoCapture(\"movie/Cosmos.mp4\")\n",
    "if cap.isOpened() == False:\n",
    "    sys.exit()\n",
    "# １キャプチャーの取得 => ret : true(正しく読み込めた場合), frame => １フレーム分の画像\n",
    "ret, frame = cap.read()\n",
    "h, w = frame.shape[:2]\n",
    "fourcc = cv2.VideoWriter_fourcc(*\"XVID\")\n",
    "# １秒あたりのフレームは 30.0\n",
    "dst = cv2.VideoWriter(\"output/test.avi\", fourcc, 30.0, (w, h))"
   ]
  },
  {
   "cell_type": "code",
   "execution_count": 6,
   "metadata": {},
   "outputs": [],
   "source": [
    "while True:\n",
    "    ret, frame = cap.read()\n",
    "    if ret == False:\n",
    "        break\n",
    "    cv2.imshow(\"img\", frame)\n",
    "    dst.write(frame)\n",
    "    if cv2.waitKey(30) == 27:\n",
    "        break\n",
    "        \n",
    "cv2.startWindowThread()\n",
    "cv2.waitKey(1)\n",
    "cv2.destroyAllWindows()\n",
    "cv2.waitKey(1)\n",
    "# メモリのリリース\n",
    "cap.release()"
   ]
  },
  {
   "cell_type": "code",
   "execution_count": null,
   "metadata": {},
   "outputs": [],
   "source": []
  },
  {
   "cell_type": "code",
   "execution_count": null,
   "metadata": {},
   "outputs": [],
   "source": []
  }
 ],
 "metadata": {
  "kernelspec": {
   "display_name": "Python 3",
   "language": "python",
   "name": "python3"
  },
  "language_info": {
   "codemirror_mode": {
    "name": "ipython",
    "version": 2
   },
   "file_extension": ".py",
   "mimetype": "text/x-python",
   "name": "python",
   "nbconvert_exporter": "python",
   "pygments_lexer": "ipython2",
   "version": "2.7.15"
  }
 },
 "nbformat": 4,
 "nbformat_minor": 2
}
