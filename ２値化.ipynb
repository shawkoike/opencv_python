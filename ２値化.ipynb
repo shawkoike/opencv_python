{
 "cells": [
  {
   "cell_type": "markdown",
   "metadata": {},
   "source": [
    "画像の２値化 => 白黒にする    \n",
    "ある敷居値より大きければ「黒」小さければ「白」のように分別する"
   ]
  },
  {
   "cell_type": "code",
   "execution_count": null,
   "metadata": {},
   "outputs": [],
   "source": [
    "import cv2\n",
    "import matplotlib.pyplot as plt\n",
    "\n",
    "# グレースケールで読み込み\n",
    "img = cv2.imread(\"src/grapes.jpg\", 0)\n",
    "\n",
    "# 閾値\n",
    "threshold = 100\n",
    "ret, img_th = cv2.threshold(img, threshold, 255, cv2.THRESH_BINARY)\n",
    "\n",
    "# オーツの方法\n",
    "ret2, img_o = cv2.threshold(img, 0, 255, cv2.THRESH_OTSU)\n",
    "# ret2 => 121.0\n",
    "hist = cv2.calcHist([img], [0], None, [256], [0,256])\n",
    "plt.plot(hist)\n",
    "\n",
    "#cv2.imshow(\"otsu\", img_o)\n",
    "\n",
    "\n",
    "img_ada = cv2.adaptiveThreshold(img, 255, cv2.ADAPTIVE_THRESH_MEAN_C, cv2.THRESH_BINARY, 3, 1)\n",
    "cv2.imshow(\"ada\", img_ada)\n",
    "\n",
    "#cv2.imshow(\"img_th\", img_th)\n",
    "cv2.waitKey(0)\n",
    "cv2.destroyAllWindows()"
   ]
  },
  {
   "cell_type": "code",
   "execution_count": null,
   "metadata": {},
   "outputs": [],
   "source": []
  }
 ],
 "metadata": {
  "kernelspec": {
   "display_name": "Python 3",
   "language": "python",
   "name": "python3"
  },
  "language_info": {
   "codemirror_mode": {
    "name": "ipython",
    "version": 2
   },
   "file_extension": ".py",
   "mimetype": "text/x-python",
   "name": "python",
   "nbconvert_exporter": "python",
   "pygments_lexer": "ipython2",
   "version": "2.7.15"
  }
 },
 "nbformat": 4,
 "nbformat_minor": 2
}
