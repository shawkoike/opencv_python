{
 "cells": [
  {
   "cell_type": "code",
   "execution_count": null,
   "metadata": {},
   "outputs": [],
   "source": [
    "import cv2\n",
    "import numpy as np\n",
    "\n",
    "# 真っ白な画像が作成される\n",
    "img = np.ones((500, 500, 3), dtype=np.uint8) * 255\n",
    "\n",
    "# 直線の描画\n",
    "cv2.line(img, (0, 0), (150, 190), (255, 0, 0), 2)\n",
    "# 四角形の描画\n",
    "cv2.rectangle(img, (100, 25), (300, 150), (0, 255, 0), 4)\n",
    "# 円の描画\n",
    "cv2.circle(img, (100, 100), 55, (0, 0, 255), -1)\n",
    "# 楕円\n",
    "cv2.ellipse(img, (250, 250), (100, 50), 20, 0, 360, (255, 0, 0), 1)\n",
    "# 折れ線\n",
    "pts = np.array([[100, 30], [200, 30], [200, 80], [100, 50]])\n",
    "cv2.polylines(img, [pts], False, (200, 255, 0), 3)\n",
    "# テキストの出力\n",
    "font = cv2.FONT_HERSHEY_SIMPLEX\n",
    "cv2.put\n",
    "cv2.imshow(\"img\", img)\n",
    "cv2.waitKey(0)\n",
    "cv2.destroyAllWindows()"
   ]
  },
  {
   "cell_type": "code",
   "execution_count": null,
   "metadata": {},
   "outputs": [],
   "source": []
  },
  {
   "cell_type": "code",
   "execution_count": null,
   "metadata": {},
   "outputs": [],
   "source": []
  }
 ],
 "metadata": {
  "kernelspec": {
   "display_name": "Python 3",
   "language": "python",
   "name": "python3"
  },
  "language_info": {
   "codemirror_mode": {
    "name": "ipython",
    "version": 2
   },
   "file_extension": ".py",
   "mimetype": "text/x-python",
   "name": "python",
   "nbconvert_exporter": "python",
   "pygments_lexer": "ipython2",
   "version": "2.7.15"
  }
 },
 "nbformat": 4,
 "nbformat_minor": 2
}
